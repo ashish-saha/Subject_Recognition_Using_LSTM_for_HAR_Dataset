{
  "nbformat": 4,
  "nbformat_minor": 0,
  "metadata": {
    "colab": {
      "provenance": [],
      "authorship_tag": "ABX9TyNeeF8IHjtG92z6phxZALTL",
      "include_colab_link": true
    },
    "kernelspec": {
      "name": "python3",
      "display_name": "Python 3"
    },
    "language_info": {
      "name": "python"
    }
  },
  "cells": [
    {
      "cell_type": "markdown",
      "metadata": {
        "id": "view-in-github",
        "colab_type": "text"
      },
      "source": [
        "<a href=\"https://colab.research.google.com/github/ashish-saha/Subject_Recognition_Using_LSTM_for_HAR_Dataset/blob/main/LSTM_Activity.ipynb\" target=\"_parent\"><img src=\"https://colab.research.google.com/assets/colab-badge.svg\" alt=\"Open In Colab\"/></a>"
      ]
    },
    {
      "cell_type": "code",
      "execution_count": 1,
      "metadata": {
        "colab": {
          "base_uri": "https://localhost:8080/"
        },
        "id": "CUU6BV85Mtp8",
        "outputId": "36265e07-4ee7-4cff-fd6f-9f9f78cc7a73"
      },
      "outputs": [
        {
          "output_type": "stream",
          "name": "stdout",
          "text": [
            "  % Total    % Received % Xferd  Average Speed   Time    Time     Time  Current\n",
            "                                 Dload  Upload   Total   Spent    Left  Speed\n",
            "100 58.1M    0 58.1M    0     0  18.6M      0 --:--:--  0:00:03 --:--:-- 18.6M\n"
          ]
        }
      ],
      "source": [
        "!curl -LO \"https://archive.ics.uci.edu/static/public/240/human+activity+recognition+using+smartphones.zip\""
      ]
    },
    {
      "cell_type": "code",
      "source": [
        "!unzip human+activity+recognition+using+smartphones.zip"
      ],
      "metadata": {
        "colab": {
          "base_uri": "https://localhost:8080/"
        },
        "id": "Za2SEqmoMysi",
        "outputId": "8fc22e74-053c-435a-8678-74d48ac738de"
      },
      "execution_count": 2,
      "outputs": [
        {
          "output_type": "stream",
          "name": "stdout",
          "text": [
            "Archive:  human+activity+recognition+using+smartphones.zip\n",
            " extracting: UCI HAR Dataset.names   \n",
            " extracting: UCI HAR Dataset.zip     \n"
          ]
        }
      ]
    },
    {
      "cell_type": "code",
      "source": [
        "%%capture\n",
        "!unzip \"UCI HAR Dataset.zip\""
      ],
      "metadata": {
        "id": "srgpQKfRMzwQ"
      },
      "execution_count": 3,
      "outputs": []
    },
    {
      "cell_type": "code",
      "source": [
        "import numpy as np\n",
        "import pandas as pd\n",
        "import matplotlib.pyplot as plt\n",
        "from sklearn.model_selection import train_test_split\n",
        "from sklearn.metrics import classification_report, confusion_matrix, ConfusionMatrixDisplay\n",
        "from sklearn.metrics import accuracy_score\n",
        "\n",
        "from sklearn.experimental import enable_iterative_imputer  # Required to enable\n",
        "from sklearn.decomposition import PCA\n",
        "from sklearn.impute import SimpleImputer, KNNImputer, IterativeImputer\n",
        "import numpy as np\n",
        "import pandas as pd\n",
        "\n",
        "import keras\n",
        "from keras import optimizers\n",
        "from keras.models import Sequential\n",
        "from keras.layers import LSTM, Dense, Conv2D, MaxPooling2D, Flatten, Dropout\n",
        "from keras.utils import to_categorical\n",
        "keras.utils.set_random_seed(812)\n",
        "\n",
        "# get the features from the file features.txt\n",
        "features = list()\n",
        "with open('UCI HAR Dataset/features.txt') as f:\n",
        "    features = [line.split()[1] for line in f.readlines()]\n",
        "print('No of Features: {}'.format(len(features)))"
      ],
      "metadata": {
        "colab": {
          "base_uri": "https://localhost:8080/"
        },
        "id": "_wHvB_I_M1P7",
        "outputId": "822cb10d-b232-42ff-fadb-a9066d25b1c1"
      },
      "execution_count": 4,
      "outputs": [
        {
          "output_type": "stream",
          "name": "stdout",
          "text": [
            "No of Features: 561\n"
          ]
        }
      ]
    },
    {
      "cell_type": "code",
      "source": [
        "## get the data from txt files to pandas dataffame\n",
        "# training data\n",
        "X_train = pd.read_csv('UCI HAR Dataset/train/X_train.txt', delim_whitespace=True, header=None)\n",
        "X_train.columns = features\n",
        "y_train = pd.read_csv('UCI HAR Dataset/train/y_train.txt', names=['Activity'])\n",
        "\n",
        "# test data\n",
        "X_test = pd.read_csv('UCI HAR Dataset/test/X_test.txt', delim_whitespace=True, header=None)\n",
        "X_test.columns = features\n",
        "y_test = pd.read_csv('UCI HAR Dataset/test/y_test.txt', names=['Activity'])\n"
      ],
      "metadata": {
        "colab": {
          "base_uri": "https://localhost:8080/"
        },
        "id": "FYbxay4tM5kS",
        "outputId": "ab5aa667-8243-4bbc-aeaa-d4b8d1b2f3c7"
      },
      "execution_count": 5,
      "outputs": [
        {
          "output_type": "stream",
          "name": "stderr",
          "text": [
            "<ipython-input-5-32557c65a558>:3: FutureWarning: The 'delim_whitespace' keyword in pd.read_csv is deprecated and will be removed in a future version. Use ``sep='\\s+'`` instead\n",
            "  X_train = pd.read_csv('UCI HAR Dataset/train/X_train.txt', delim_whitespace=True, header=None)\n",
            "<ipython-input-5-32557c65a558>:8: FutureWarning: The 'delim_whitespace' keyword in pd.read_csv is deprecated and will be removed in a future version. Use ``sep='\\s+'`` instead\n",
            "  X_test = pd.read_csv('UCI HAR Dataset/test/X_test.txt', delim_whitespace=True, header=None)\n"
          ]
        }
      ]
    },
    {
      "cell_type": "code",
      "source": [
        "# one hot encode y\n",
        "y_train = to_categorical(y_train)\n",
        "y_test = to_categorical(y_test)"
      ],
      "metadata": {
        "id": "ZvYjkJGANMoh"
      },
      "execution_count": 7,
      "outputs": []
    },
    {
      "cell_type": "code",
      "source": [
        "# Assuming you want 1 time steps\n",
        "time_steps = 1\n",
        "\n",
        "# Compute the number of samples after adjusting for time steps\n",
        "train_num_samples = X_train.shape[0] // time_steps\n",
        "test_num_samples = X_test.shape[0] // time_steps\n",
        "\n",
        "\n",
        "# Reshape the data to be in 3D (num_samples, time_steps, num_features)\n",
        "X_train_reshaped = np.array(X_train).reshape((train_num_samples, time_steps, X_train.shape[1]))\n",
        "X_test_reshaped = np.array(X_test).reshape((test_num_samples, time_steps, X_test.shape[1]))"
      ],
      "metadata": {
        "id": "0mnt9KFJNO6g"
      },
      "execution_count": 8,
      "outputs": []
    },
    {
      "cell_type": "code",
      "source": [
        "model = Sequential()\n",
        "# RNN layer\n",
        "model.add(LSTM(units = 128, input_shape = (X_train_reshaped.shape[1], X_train_reshaped.shape[2])))\n",
        "model.add(Dropout(0.2))\n",
        "model.add(Dense(units = 64, activation='relu'))\n",
        "model.add(Dense(y_train.shape[1], activation = 'softmax'))\n",
        "model.compile(loss='categorical_crossentropy', optimizer='adam', metrics=['accuracy'])"
      ],
      "metadata": {
        "id": "jzpG-G38NZ5Z"
      },
      "execution_count": 12,
      "outputs": []
    },
    {
      "cell_type": "code",
      "source": [
        "model.summary()\n"
      ],
      "metadata": {
        "colab": {
          "base_uri": "https://localhost:8080/",
          "height": 257
        },
        "id": "i8GcZIQINbcZ",
        "outputId": "152747a1-dfb0-4dd0-830f-dfb3f3d45947"
      },
      "execution_count": 13,
      "outputs": [
        {
          "output_type": "display_data",
          "data": {
            "text/plain": [
              "\u001b[1mModel: \"sequential_1\"\u001b[0m\n"
            ],
            "text/html": [
              "<pre style=\"white-space:pre;overflow-x:auto;line-height:normal;font-family:Menlo,'DejaVu Sans Mono',consolas,'Courier New',monospace\"><span style=\"font-weight: bold\">Model: \"sequential_1\"</span>\n",
              "</pre>\n"
            ]
          },
          "metadata": {}
        },
        {
          "output_type": "display_data",
          "data": {
            "text/plain": [
              "┏━━━━━━━━━━━━━━━━━━━━━━━━━━━━━━━━━━━━━━┳━━━━━━━━━━━━━━━━━━━━━━━━━━━━━┳━━━━━━━━━━━━━━━━━┓\n",
              "┃\u001b[1m \u001b[0m\u001b[1mLayer (type)                        \u001b[0m\u001b[1m \u001b[0m┃\u001b[1m \u001b[0m\u001b[1mOutput Shape               \u001b[0m\u001b[1m \u001b[0m┃\u001b[1m \u001b[0m\u001b[1m        Param #\u001b[0m\u001b[1m \u001b[0m┃\n",
              "┡━━━━━━━━━━━━━━━━━━━━━━━━━━━━━━━━━━━━━━╇━━━━━━━━━━━━━━━━━━━━━━━━━━━━━╇━━━━━━━━━━━━━━━━━┩\n",
              "│ lstm_1 (\u001b[38;5;33mLSTM\u001b[0m)                        │ (\u001b[38;5;45mNone\u001b[0m, \u001b[38;5;34m128\u001b[0m)                 │         \u001b[38;5;34m353,280\u001b[0m │\n",
              "├──────────────────────────────────────┼─────────────────────────────┼─────────────────┤\n",
              "│ dropout_1 (\u001b[38;5;33mDropout\u001b[0m)                  │ (\u001b[38;5;45mNone\u001b[0m, \u001b[38;5;34m128\u001b[0m)                 │               \u001b[38;5;34m0\u001b[0m │\n",
              "├──────────────────────────────────────┼─────────────────────────────┼─────────────────┤\n",
              "│ dense_2 (\u001b[38;5;33mDense\u001b[0m)                      │ (\u001b[38;5;45mNone\u001b[0m, \u001b[38;5;34m64\u001b[0m)                  │           \u001b[38;5;34m8,256\u001b[0m │\n",
              "├──────────────────────────────────────┼─────────────────────────────┼─────────────────┤\n",
              "│ dense_3 (\u001b[38;5;33mDense\u001b[0m)                      │ (\u001b[38;5;45mNone\u001b[0m, \u001b[38;5;34m7\u001b[0m)                   │             \u001b[38;5;34m455\u001b[0m │\n",
              "└──────────────────────────────────────┴─────────────────────────────┴─────────────────┘\n"
            ],
            "text/html": [
              "<pre style=\"white-space:pre;overflow-x:auto;line-height:normal;font-family:Menlo,'DejaVu Sans Mono',consolas,'Courier New',monospace\">┏━━━━━━━━━━━━━━━━━━━━━━━━━━━━━━━━━━━━━━┳━━━━━━━━━━━━━━━━━━━━━━━━━━━━━┳━━━━━━━━━━━━━━━━━┓\n",
              "┃<span style=\"font-weight: bold\"> Layer (type)                         </span>┃<span style=\"font-weight: bold\"> Output Shape                </span>┃<span style=\"font-weight: bold\">         Param # </span>┃\n",
              "┡━━━━━━━━━━━━━━━━━━━━━━━━━━━━━━━━━━━━━━╇━━━━━━━━━━━━━━━━━━━━━━━━━━━━━╇━━━━━━━━━━━━━━━━━┩\n",
              "│ lstm_1 (<span style=\"color: #0087ff; text-decoration-color: #0087ff\">LSTM</span>)                        │ (<span style=\"color: #00d7ff; text-decoration-color: #00d7ff\">None</span>, <span style=\"color: #00af00; text-decoration-color: #00af00\">128</span>)                 │         <span style=\"color: #00af00; text-decoration-color: #00af00\">353,280</span> │\n",
              "├──────────────────────────────────────┼─────────────────────────────┼─────────────────┤\n",
              "│ dropout_1 (<span style=\"color: #0087ff; text-decoration-color: #0087ff\">Dropout</span>)                  │ (<span style=\"color: #00d7ff; text-decoration-color: #00d7ff\">None</span>, <span style=\"color: #00af00; text-decoration-color: #00af00\">128</span>)                 │               <span style=\"color: #00af00; text-decoration-color: #00af00\">0</span> │\n",
              "├──────────────────────────────────────┼─────────────────────────────┼─────────────────┤\n",
              "│ dense_2 (<span style=\"color: #0087ff; text-decoration-color: #0087ff\">Dense</span>)                      │ (<span style=\"color: #00d7ff; text-decoration-color: #00d7ff\">None</span>, <span style=\"color: #00af00; text-decoration-color: #00af00\">64</span>)                  │           <span style=\"color: #00af00; text-decoration-color: #00af00\">8,256</span> │\n",
              "├──────────────────────────────────────┼─────────────────────────────┼─────────────────┤\n",
              "│ dense_3 (<span style=\"color: #0087ff; text-decoration-color: #0087ff\">Dense</span>)                      │ (<span style=\"color: #00d7ff; text-decoration-color: #00d7ff\">None</span>, <span style=\"color: #00af00; text-decoration-color: #00af00\">7</span>)                   │             <span style=\"color: #00af00; text-decoration-color: #00af00\">455</span> │\n",
              "└──────────────────────────────────────┴─────────────────────────────┴─────────────────┘\n",
              "</pre>\n"
            ]
          },
          "metadata": {}
        },
        {
          "output_type": "display_data",
          "data": {
            "text/plain": [
              "\u001b[1m Total params: \u001b[0m\u001b[38;5;34m361,991\u001b[0m (1.38 MB)\n"
            ],
            "text/html": [
              "<pre style=\"white-space:pre;overflow-x:auto;line-height:normal;font-family:Menlo,'DejaVu Sans Mono',consolas,'Courier New',monospace\"><span style=\"font-weight: bold\"> Total params: </span><span style=\"color: #00af00; text-decoration-color: #00af00\">361,991</span> (1.38 MB)\n",
              "</pre>\n"
            ]
          },
          "metadata": {}
        },
        {
          "output_type": "display_data",
          "data": {
            "text/plain": [
              "\u001b[1m Trainable params: \u001b[0m\u001b[38;5;34m361,991\u001b[0m (1.38 MB)\n"
            ],
            "text/html": [
              "<pre style=\"white-space:pre;overflow-x:auto;line-height:normal;font-family:Menlo,'DejaVu Sans Mono',consolas,'Courier New',monospace\"><span style=\"font-weight: bold\"> Trainable params: </span><span style=\"color: #00af00; text-decoration-color: #00af00\">361,991</span> (1.38 MB)\n",
              "</pre>\n"
            ]
          },
          "metadata": {}
        },
        {
          "output_type": "display_data",
          "data": {
            "text/plain": [
              "\u001b[1m Non-trainable params: \u001b[0m\u001b[38;5;34m0\u001b[0m (0.00 B)\n"
            ],
            "text/html": [
              "<pre style=\"white-space:pre;overflow-x:auto;line-height:normal;font-family:Menlo,'DejaVu Sans Mono',consolas,'Courier New',monospace\"><span style=\"font-weight: bold\"> Non-trainable params: </span><span style=\"color: #00af00; text-decoration-color: #00af00\">0</span> (0.00 B)\n",
              "</pre>\n"
            ]
          },
          "metadata": {}
        }
      ]
    },
    {
      "cell_type": "code",
      "source": [
        "model_history = model.fit(X_train_reshaped, y_train, epochs = 100, validation_split = 0.20, batch_size = 1024, verbose = 1)"
      ],
      "metadata": {
        "colab": {
          "base_uri": "https://localhost:8080/"
        },
        "id": "ve5PmZoQNcuh",
        "outputId": "2119636f-6f15-4429-f2bb-e614289b8c63"
      },
      "execution_count": 14,
      "outputs": [
        {
          "output_type": "stream",
          "name": "stdout",
          "text": [
            "Epoch 1/100\n",
            "\u001b[1m6/6\u001b[0m \u001b[32m━━━━━━━━━━━━━━━━━━━━\u001b[0m\u001b[37m\u001b[0m \u001b[1m4s\u001b[0m 155ms/step - accuracy: 0.2339 - loss: 1.7370 - val_accuracy: 0.5167 - val_loss: 1.2533\n",
            "Epoch 2/100\n",
            "\u001b[1m6/6\u001b[0m \u001b[32m━━━━━━━━━━━━━━━━━━━━\u001b[0m\u001b[37m\u001b[0m \u001b[1m1s\u001b[0m 58ms/step - accuracy: 0.5459 - loss: 1.1725 - val_accuracy: 0.7464 - val_loss: 0.8919\n",
            "Epoch 3/100\n",
            "\u001b[1m6/6\u001b[0m \u001b[32m━━━━━━━━━━━━━━━━━━━━\u001b[0m\u001b[37m\u001b[0m \u001b[1m0s\u001b[0m 59ms/step - accuracy: 0.7032 - loss: 0.8717 - val_accuracy: 0.8307 - val_loss: 0.6639\n",
            "Epoch 4/100\n",
            "\u001b[1m6/6\u001b[0m \u001b[32m━━━━━━━━━━━━━━━━━━━━\u001b[0m\u001b[37m\u001b[0m \u001b[1m1s\u001b[0m 57ms/step - accuracy: 0.7842 - loss: 0.6722 - val_accuracy: 0.8824 - val_loss: 0.4991\n",
            "Epoch 5/100\n",
            "\u001b[1m6/6\u001b[0m \u001b[32m━━━━━━━━━━━━━━━━━━━━\u001b[0m\u001b[37m\u001b[0m \u001b[1m1s\u001b[0m 61ms/step - accuracy: 0.8356 - loss: 0.5165 - val_accuracy: 0.9055 - val_loss: 0.3766\n",
            "Epoch 6/100\n",
            "\u001b[1m6/6\u001b[0m \u001b[32m━━━━━━━━━━━━━━━━━━━━\u001b[0m\u001b[37m\u001b[0m \u001b[1m0s\u001b[0m 76ms/step - accuracy: 0.8602 - loss: 0.4082 - val_accuracy: 0.9239 - val_loss: 0.2890\n",
            "Epoch 7/100\n",
            "\u001b[1m6/6\u001b[0m \u001b[32m━━━━━━━━━━━━━━━━━━━━\u001b[0m\u001b[37m\u001b[0m \u001b[1m1s\u001b[0m 67ms/step - accuracy: 0.8905 - loss: 0.3281 - val_accuracy: 0.9327 - val_loss: 0.2370\n",
            "Epoch 8/100\n",
            "\u001b[1m6/6\u001b[0m \u001b[32m━━━━━━━━━━━━━━━━━━━━\u001b[0m\u001b[37m\u001b[0m \u001b[1m0s\u001b[0m 69ms/step - accuracy: 0.9047 - loss: 0.2780 - val_accuracy: 0.9313 - val_loss: 0.2055\n",
            "Epoch 9/100\n",
            "\u001b[1m6/6\u001b[0m \u001b[32m━━━━━━━━━━━━━━━━━━━━\u001b[0m\u001b[37m\u001b[0m \u001b[1m1s\u001b[0m 74ms/step - accuracy: 0.9116 - loss: 0.2394 - val_accuracy: 0.9286 - val_loss: 0.1981\n",
            "Epoch 10/100\n",
            "\u001b[1m6/6\u001b[0m \u001b[32m━━━━━━━━━━━━━━━━━━━━\u001b[0m\u001b[37m\u001b[0m \u001b[1m0s\u001b[0m 73ms/step - accuracy: 0.9247 - loss: 0.2099 - val_accuracy: 0.9361 - val_loss: 0.1725\n",
            "Epoch 11/100\n",
            "\u001b[1m6/6\u001b[0m \u001b[32m━━━━━━━━━━━━━━━━━━━━\u001b[0m\u001b[37m\u001b[0m \u001b[1m1s\u001b[0m 104ms/step - accuracy: 0.9401 - loss: 0.1782 - val_accuracy: 0.9402 - val_loss: 0.1553\n",
            "Epoch 12/100\n",
            "\u001b[1m6/6\u001b[0m \u001b[32m━━━━━━━━━━━━━━━━━━━━\u001b[0m\u001b[37m\u001b[0m \u001b[1m1s\u001b[0m 111ms/step - accuracy: 0.9441 - loss: 0.1578 - val_accuracy: 0.9375 - val_loss: 0.1499\n",
            "Epoch 13/100\n",
            "\u001b[1m6/6\u001b[0m \u001b[32m━━━━━━━━━━━━━━━━━━━━\u001b[0m\u001b[37m\u001b[0m \u001b[1m1s\u001b[0m 130ms/step - accuracy: 0.9518 - loss: 0.1462 - val_accuracy: 0.9415 - val_loss: 0.1431\n",
            "Epoch 14/100\n",
            "\u001b[1m6/6\u001b[0m \u001b[32m━━━━━━━━━━━━━━━━━━━━\u001b[0m\u001b[37m\u001b[0m \u001b[1m1s\u001b[0m 127ms/step - accuracy: 0.9584 - loss: 0.1284 - val_accuracy: 0.9429 - val_loss: 0.1383\n",
            "Epoch 15/100\n",
            "\u001b[1m6/6\u001b[0m \u001b[32m━━━━━━━━━━━━━━━━━━━━\u001b[0m\u001b[37m\u001b[0m \u001b[1m1s\u001b[0m 69ms/step - accuracy: 0.9641 - loss: 0.1146 - val_accuracy: 0.9422 - val_loss: 0.1315\n",
            "Epoch 16/100\n",
            "\u001b[1m6/6\u001b[0m \u001b[32m━━━━━━━━━━━━━━━━━━━━\u001b[0m\u001b[37m\u001b[0m \u001b[1m1s\u001b[0m 64ms/step - accuracy: 0.9658 - loss: 0.1070 - val_accuracy: 0.9477 - val_loss: 0.1292\n",
            "Epoch 17/100\n",
            "\u001b[1m6/6\u001b[0m \u001b[32m━━━━━━━━━━━━━━━━━━━━\u001b[0m\u001b[37m\u001b[0m \u001b[1m0s\u001b[0m 57ms/step - accuracy: 0.9681 - loss: 0.1010 - val_accuracy: 0.9449 - val_loss: 0.1300\n",
            "Epoch 18/100\n",
            "\u001b[1m6/6\u001b[0m \u001b[32m━━━━━━━━━━━━━━━━━━━━\u001b[0m\u001b[37m\u001b[0m \u001b[1m1s\u001b[0m 73ms/step - accuracy: 0.9722 - loss: 0.0927 - val_accuracy: 0.9443 - val_loss: 0.1373\n",
            "Epoch 19/100\n",
            "\u001b[1m6/6\u001b[0m \u001b[32m━━━━━━━━━━━━━━━━━━━━\u001b[0m\u001b[37m\u001b[0m \u001b[1m0s\u001b[0m 73ms/step - accuracy: 0.9711 - loss: 0.0883 - val_accuracy: 0.9470 - val_loss: 0.1193\n",
            "Epoch 20/100\n",
            "\u001b[1m6/6\u001b[0m \u001b[32m━━━━━━━━━━━━━━━━━━━━\u001b[0m\u001b[37m\u001b[0m \u001b[1m0s\u001b[0m 77ms/step - accuracy: 0.9771 - loss: 0.0803 - val_accuracy: 0.9463 - val_loss: 0.1198\n",
            "Epoch 21/100\n",
            "\u001b[1m6/6\u001b[0m \u001b[32m━━━━━━━━━━━━━━━━━━━━\u001b[0m\u001b[37m\u001b[0m \u001b[1m0s\u001b[0m 66ms/step - accuracy: 0.9755 - loss: 0.0774 - val_accuracy: 0.9436 - val_loss: 0.1313\n",
            "Epoch 22/100\n",
            "\u001b[1m6/6\u001b[0m \u001b[32m━━━━━━━━━━━━━━━━━━━━\u001b[0m\u001b[37m\u001b[0m \u001b[1m1s\u001b[0m 100ms/step - accuracy: 0.9794 - loss: 0.0692 - val_accuracy: 0.9449 - val_loss: 0.1285\n",
            "Epoch 23/100\n",
            "\u001b[1m6/6\u001b[0m \u001b[32m━━━━━━━━━━━━━━━━━━━━\u001b[0m\u001b[37m\u001b[0m \u001b[1m0s\u001b[0m 70ms/step - accuracy: 0.9780 - loss: 0.0696 - val_accuracy: 0.9483 - val_loss: 0.1133\n",
            "Epoch 24/100\n",
            "\u001b[1m6/6\u001b[0m \u001b[32m━━━━━━━━━━━━━━━━━━━━\u001b[0m\u001b[37m\u001b[0m \u001b[1m1s\u001b[0m 82ms/step - accuracy: 0.9788 - loss: 0.0696 - val_accuracy: 0.9422 - val_loss: 0.1285\n",
            "Epoch 25/100\n",
            "\u001b[1m6/6\u001b[0m \u001b[32m━━━━━━━━━━━━━━━━━━━━\u001b[0m\u001b[37m\u001b[0m \u001b[1m1s\u001b[0m 67ms/step - accuracy: 0.9814 - loss: 0.0625 - val_accuracy: 0.9483 - val_loss: 0.1178\n",
            "Epoch 26/100\n",
            "\u001b[1m6/6\u001b[0m \u001b[32m━━━━━━━━━━━━━━━━━━━━\u001b[0m\u001b[37m\u001b[0m \u001b[1m0s\u001b[0m 82ms/step - accuracy: 0.9810 - loss: 0.0621 - val_accuracy: 0.9490 - val_loss: 0.1161\n",
            "Epoch 27/100\n",
            "\u001b[1m6/6\u001b[0m \u001b[32m━━━━━━━━━━━━━━━━━━━━\u001b[0m\u001b[37m\u001b[0m \u001b[1m1s\u001b[0m 66ms/step - accuracy: 0.9820 - loss: 0.0588 - val_accuracy: 0.9483 - val_loss: 0.1165\n",
            "Epoch 28/100\n",
            "\u001b[1m6/6\u001b[0m \u001b[32m━━━━━━━━━━━━━━━━━━━━\u001b[0m\u001b[37m\u001b[0m \u001b[1m1s\u001b[0m 71ms/step - accuracy: 0.9836 - loss: 0.0563 - val_accuracy: 0.9456 - val_loss: 0.1244\n",
            "Epoch 29/100\n",
            "\u001b[1m6/6\u001b[0m \u001b[32m━━━━━━━━━━━━━━━━━━━━\u001b[0m\u001b[37m\u001b[0m \u001b[1m0s\u001b[0m 68ms/step - accuracy: 0.9831 - loss: 0.0522 - val_accuracy: 0.9477 - val_loss: 0.1175\n",
            "Epoch 30/100\n",
            "\u001b[1m6/6\u001b[0m \u001b[32m━━━━━━━━━━━━━━━━━━━━\u001b[0m\u001b[37m\u001b[0m \u001b[1m0s\u001b[0m 75ms/step - accuracy: 0.9864 - loss: 0.0518 - val_accuracy: 0.9497 - val_loss: 0.1148\n",
            "Epoch 31/100\n",
            "\u001b[1m6/6\u001b[0m \u001b[32m━━━━━━━━━━━━━━━━━━━━\u001b[0m\u001b[37m\u001b[0m \u001b[1m0s\u001b[0m 66ms/step - accuracy: 0.9848 - loss: 0.0491 - val_accuracy: 0.9477 - val_loss: 0.1256\n",
            "Epoch 32/100\n",
            "\u001b[1m6/6\u001b[0m \u001b[32m━━━━━━━━━━━━━━━━━━━━\u001b[0m\u001b[37m\u001b[0m \u001b[1m1s\u001b[0m 77ms/step - accuracy: 0.9852 - loss: 0.0478 - val_accuracy: 0.9463 - val_loss: 0.1256\n",
            "Epoch 33/100\n",
            "\u001b[1m6/6\u001b[0m \u001b[32m━━━━━━━━━━━━━━━━━━━━\u001b[0m\u001b[37m\u001b[0m \u001b[1m0s\u001b[0m 72ms/step - accuracy: 0.9867 - loss: 0.0480 - val_accuracy: 0.9490 - val_loss: 0.1109\n",
            "Epoch 34/100\n",
            "\u001b[1m6/6\u001b[0m \u001b[32m━━━━━━━━━━━━━━━━━━━━\u001b[0m\u001b[37m\u001b[0m \u001b[1m1s\u001b[0m 103ms/step - accuracy: 0.9852 - loss: 0.0486 - val_accuracy: 0.9504 - val_loss: 0.1144\n",
            "Epoch 35/100\n",
            "\u001b[1m6/6\u001b[0m \u001b[32m━━━━━━━━━━━━━━━━━━━━\u001b[0m\u001b[37m\u001b[0m \u001b[1m1s\u001b[0m 122ms/step - accuracy: 0.9859 - loss: 0.0463 - val_accuracy: 0.9449 - val_loss: 0.1357\n",
            "Epoch 36/100\n",
            "\u001b[1m6/6\u001b[0m \u001b[32m━━━━━━━━━━━━━━━━━━━━\u001b[0m\u001b[37m\u001b[0m \u001b[1m1s\u001b[0m 129ms/step - accuracy: 0.9849 - loss: 0.0438 - val_accuracy: 0.9470 - val_loss: 0.1266\n",
            "Epoch 37/100\n",
            "\u001b[1m6/6\u001b[0m \u001b[32m━━━━━━━━━━━━━━━━━━━━\u001b[0m\u001b[37m\u001b[0m \u001b[1m1s\u001b[0m 138ms/step - accuracy: 0.9846 - loss: 0.0477 - val_accuracy: 0.9545 - val_loss: 0.1186\n",
            "Epoch 38/100\n",
            "\u001b[1m6/6\u001b[0m \u001b[32m━━━━━━━━━━━━━━━━━━━━\u001b[0m\u001b[37m\u001b[0m \u001b[1m0s\u001b[0m 72ms/step - accuracy: 0.9860 - loss: 0.0453 - val_accuracy: 0.9483 - val_loss: 0.1260\n",
            "Epoch 39/100\n",
            "\u001b[1m6/6\u001b[0m \u001b[32m━━━━━━━━━━━━━━━━━━━━\u001b[0m\u001b[37m\u001b[0m \u001b[1m0s\u001b[0m 66ms/step - accuracy: 0.9855 - loss: 0.0418 - val_accuracy: 0.9504 - val_loss: 0.1258\n",
            "Epoch 40/100\n",
            "\u001b[1m6/6\u001b[0m \u001b[32m━━━━━━━━━━━━━━━━━━━━\u001b[0m\u001b[37m\u001b[0m \u001b[1m1s\u001b[0m 75ms/step - accuracy: 0.9861 - loss: 0.0422 - val_accuracy: 0.9524 - val_loss: 0.1158\n",
            "Epoch 41/100\n",
            "\u001b[1m6/6\u001b[0m \u001b[32m━━━━━━━━━━━━━━━━━━━━\u001b[0m\u001b[37m\u001b[0m \u001b[1m0s\u001b[0m 72ms/step - accuracy: 0.9877 - loss: 0.0383 - val_accuracy: 0.9490 - val_loss: 0.1359\n",
            "Epoch 42/100\n",
            "\u001b[1m6/6\u001b[0m \u001b[32m━━━━━━━━━━━━━━━━━━━━\u001b[0m\u001b[37m\u001b[0m \u001b[1m0s\u001b[0m 73ms/step - accuracy: 0.9875 - loss: 0.0390 - val_accuracy: 0.9477 - val_loss: 0.1254\n",
            "Epoch 43/100\n",
            "\u001b[1m6/6\u001b[0m \u001b[32m━━━━━━━━━━━━━━━━━━━━\u001b[0m\u001b[37m\u001b[0m \u001b[1m1s\u001b[0m 74ms/step - accuracy: 0.9873 - loss: 0.0369 - val_accuracy: 0.9504 - val_loss: 0.1245\n",
            "Epoch 44/100\n",
            "\u001b[1m6/6\u001b[0m \u001b[32m━━━━━━━━━━━━━━━━━━━━\u001b[0m\u001b[37m\u001b[0m \u001b[1m1s\u001b[0m 76ms/step - accuracy: 0.9887 - loss: 0.0356 - val_accuracy: 0.9504 - val_loss: 0.1215\n",
            "Epoch 45/100\n",
            "\u001b[1m6/6\u001b[0m \u001b[32m━━━━━━━━━━━━━━━━━━━━\u001b[0m\u001b[37m\u001b[0m \u001b[1m1s\u001b[0m 73ms/step - accuracy: 0.9888 - loss: 0.0367 - val_accuracy: 0.9497 - val_loss: 0.1285\n",
            "Epoch 46/100\n",
            "\u001b[1m6/6\u001b[0m \u001b[32m━━━━━━━━━━━━━━━━━━━━\u001b[0m\u001b[37m\u001b[0m \u001b[1m1s\u001b[0m 90ms/step - accuracy: 0.9892 - loss: 0.0347 - val_accuracy: 0.9483 - val_loss: 0.1275\n",
            "Epoch 47/100\n",
            "\u001b[1m6/6\u001b[0m \u001b[32m━━━━━━━━━━━━━━━━━━━━\u001b[0m\u001b[37m\u001b[0m \u001b[1m1s\u001b[0m 131ms/step - accuracy: 0.9888 - loss: 0.0363 - val_accuracy: 0.9531 - val_loss: 0.1174\n",
            "Epoch 48/100\n",
            "\u001b[1m6/6\u001b[0m \u001b[32m━━━━━━━━━━━━━━━━━━━━\u001b[0m\u001b[37m\u001b[0m \u001b[1m0s\u001b[0m 76ms/step - accuracy: 0.9893 - loss: 0.0330 - val_accuracy: 0.9517 - val_loss: 0.1218\n",
            "Epoch 49/100\n",
            "\u001b[1m6/6\u001b[0m \u001b[32m━━━━━━━━━━━━━━━━━━━━\u001b[0m\u001b[37m\u001b[0m \u001b[1m0s\u001b[0m 69ms/step - accuracy: 0.9896 - loss: 0.0336 - val_accuracy: 0.9497 - val_loss: 0.1375\n",
            "Epoch 50/100\n",
            "\u001b[1m6/6\u001b[0m \u001b[32m━━━━━━━━━━━━━━━━━━━━\u001b[0m\u001b[37m\u001b[0m \u001b[1m1s\u001b[0m 81ms/step - accuracy: 0.9907 - loss: 0.0338 - val_accuracy: 0.9524 - val_loss: 0.1284\n",
            "Epoch 51/100\n",
            "\u001b[1m6/6\u001b[0m \u001b[32m━━━━━━━━━━━━━━━━━━━━\u001b[0m\u001b[37m\u001b[0m \u001b[1m1s\u001b[0m 66ms/step - accuracy: 0.9894 - loss: 0.0345 - val_accuracy: 0.9538 - val_loss: 0.1199\n",
            "Epoch 52/100\n",
            "\u001b[1m6/6\u001b[0m \u001b[32m━━━━━━━━━━━━━━━━━━━━\u001b[0m\u001b[37m\u001b[0m \u001b[1m1s\u001b[0m 71ms/step - accuracy: 0.9890 - loss: 0.0334 - val_accuracy: 0.9531 - val_loss: 0.1219\n",
            "Epoch 53/100\n",
            "\u001b[1m6/6\u001b[0m \u001b[32m━━━━━━━━━━━━━━━━━━━━\u001b[0m\u001b[37m\u001b[0m \u001b[1m1s\u001b[0m 68ms/step - accuracy: 0.9896 - loss: 0.0311 - val_accuracy: 0.9511 - val_loss: 0.1331\n",
            "Epoch 54/100\n",
            "\u001b[1m6/6\u001b[0m \u001b[32m━━━━━━━━━━━━━━━━━━━━\u001b[0m\u001b[37m\u001b[0m \u001b[1m1s\u001b[0m 73ms/step - accuracy: 0.9892 - loss: 0.0319 - val_accuracy: 0.9531 - val_loss: 0.1347\n",
            "Epoch 55/100\n",
            "\u001b[1m6/6\u001b[0m \u001b[32m━━━━━━━━━━━━━━━━━━━━\u001b[0m\u001b[37m\u001b[0m \u001b[1m1s\u001b[0m 119ms/step - accuracy: 0.9897 - loss: 0.0303 - val_accuracy: 0.9524 - val_loss: 0.1230\n",
            "Epoch 56/100\n",
            "\u001b[1m6/6\u001b[0m \u001b[32m━━━━━━━━━━━━━━━━━━━━\u001b[0m\u001b[37m\u001b[0m \u001b[1m1s\u001b[0m 117ms/step - accuracy: 0.9895 - loss: 0.0327 - val_accuracy: 0.9531 - val_loss: 0.1244\n",
            "Epoch 57/100\n",
            "\u001b[1m6/6\u001b[0m \u001b[32m━━━━━━━━━━━━━━━━━━━━\u001b[0m\u001b[37m\u001b[0m \u001b[1m1s\u001b[0m 109ms/step - accuracy: 0.9905 - loss: 0.0305 - val_accuracy: 0.9517 - val_loss: 0.1288\n",
            "Epoch 58/100\n",
            "\u001b[1m6/6\u001b[0m \u001b[32m━━━━━━━━━━━━━━━━━━━━\u001b[0m\u001b[37m\u001b[0m \u001b[1m1s\u001b[0m 122ms/step - accuracy: 0.9913 - loss: 0.0279 - val_accuracy: 0.9551 - val_loss: 0.1222\n",
            "Epoch 59/100\n",
            "\u001b[1m6/6\u001b[0m \u001b[32m━━━━━━━━━━━━━━━━━━━━\u001b[0m\u001b[37m\u001b[0m \u001b[1m1s\u001b[0m 79ms/step - accuracy: 0.9898 - loss: 0.0282 - val_accuracy: 0.9504 - val_loss: 0.1375\n",
            "Epoch 60/100\n",
            "\u001b[1m6/6\u001b[0m \u001b[32m━━━━━━━━━━━━━━━━━━━━\u001b[0m\u001b[37m\u001b[0m \u001b[1m0s\u001b[0m 78ms/step - accuracy: 0.9912 - loss: 0.0287 - val_accuracy: 0.9531 - val_loss: 0.1270\n",
            "Epoch 61/100\n",
            "\u001b[1m6/6\u001b[0m \u001b[32m━━━━━━━━━━━━━━━━━━━━\u001b[0m\u001b[37m\u001b[0m \u001b[1m1s\u001b[0m 72ms/step - accuracy: 0.9900 - loss: 0.0294 - val_accuracy: 0.9538 - val_loss: 0.1245\n",
            "Epoch 62/100\n",
            "\u001b[1m6/6\u001b[0m \u001b[32m━━━━━━━━━━━━━━━━━━━━\u001b[0m\u001b[37m\u001b[0m \u001b[1m1s\u001b[0m 71ms/step - accuracy: 0.9912 - loss: 0.0283 - val_accuracy: 0.9524 - val_loss: 0.1406\n",
            "Epoch 63/100\n",
            "\u001b[1m6/6\u001b[0m \u001b[32m━━━━━━━━━━━━━━━━━━━━\u001b[0m\u001b[37m\u001b[0m \u001b[1m0s\u001b[0m 70ms/step - accuracy: 0.9894 - loss: 0.0319 - val_accuracy: 0.9497 - val_loss: 0.1494\n",
            "Epoch 64/100\n",
            "\u001b[1m6/6\u001b[0m \u001b[32m━━━━━━━━━━━━━━━━━━━━\u001b[0m\u001b[37m\u001b[0m \u001b[1m1s\u001b[0m 83ms/step - accuracy: 0.9897 - loss: 0.0301 - val_accuracy: 0.9517 - val_loss: 0.1332\n",
            "Epoch 65/100\n",
            "\u001b[1m6/6\u001b[0m \u001b[32m━━━━━━━━━━━━━━━━━━━━\u001b[0m\u001b[37m\u001b[0m \u001b[1m1s\u001b[0m 73ms/step - accuracy: 0.9891 - loss: 0.0316 - val_accuracy: 0.9592 - val_loss: 0.1203\n",
            "Epoch 66/100\n",
            "\u001b[1m6/6\u001b[0m \u001b[32m━━━━━━━━━━━━━━━━━━━━\u001b[0m\u001b[37m\u001b[0m \u001b[1m1s\u001b[0m 72ms/step - accuracy: 0.9899 - loss: 0.0295 - val_accuracy: 0.9517 - val_loss: 0.1319\n",
            "Epoch 67/100\n",
            "\u001b[1m6/6\u001b[0m \u001b[32m━━━━━━━━━━━━━━━━━━━━\u001b[0m\u001b[37m\u001b[0m \u001b[1m0s\u001b[0m 74ms/step - accuracy: 0.9908 - loss: 0.0289 - val_accuracy: 0.9517 - val_loss: 0.1392\n",
            "Epoch 68/100\n",
            "\u001b[1m6/6\u001b[0m \u001b[32m━━━━━━━━━━━━━━━━━━━━\u001b[0m\u001b[37m\u001b[0m \u001b[1m0s\u001b[0m 70ms/step - accuracy: 0.9911 - loss: 0.0256 - val_accuracy: 0.9551 - val_loss: 0.1293\n",
            "Epoch 69/100\n",
            "\u001b[1m6/6\u001b[0m \u001b[32m━━━━━━━━━━━━━━━━━━━━\u001b[0m\u001b[37m\u001b[0m \u001b[1m1s\u001b[0m 79ms/step - accuracy: 0.9920 - loss: 0.0263 - val_accuracy: 0.9565 - val_loss: 0.1280\n",
            "Epoch 70/100\n",
            "\u001b[1m6/6\u001b[0m \u001b[32m━━━━━━━━━━━━━━━━━━━━\u001b[0m\u001b[37m\u001b[0m \u001b[1m1s\u001b[0m 79ms/step - accuracy: 0.9911 - loss: 0.0253 - val_accuracy: 0.9524 - val_loss: 0.1392\n",
            "Epoch 71/100\n",
            "\u001b[1m6/6\u001b[0m \u001b[32m━━━━━━━━━━━━━━━━━━━━\u001b[0m\u001b[37m\u001b[0m \u001b[1m1s\u001b[0m 77ms/step - accuracy: 0.9913 - loss: 0.0252 - val_accuracy: 0.9572 - val_loss: 0.1269\n",
            "Epoch 72/100\n",
            "\u001b[1m6/6\u001b[0m \u001b[32m━━━━━━━━━━━━━━━━━━━━\u001b[0m\u001b[37m\u001b[0m \u001b[1m1s\u001b[0m 70ms/step - accuracy: 0.9913 - loss: 0.0261 - val_accuracy: 0.9497 - val_loss: 0.1622\n",
            "Epoch 73/100\n",
            "\u001b[1m6/6\u001b[0m \u001b[32m━━━━━━━━━━━━━━━━━━━━\u001b[0m\u001b[37m\u001b[0m \u001b[1m0s\u001b[0m 67ms/step - accuracy: 0.9896 - loss: 0.0287 - val_accuracy: 0.9531 - val_loss: 0.1405\n",
            "Epoch 74/100\n",
            "\u001b[1m6/6\u001b[0m \u001b[32m━━━━━━━━━━━━━━━━━━━━\u001b[0m\u001b[37m\u001b[0m \u001b[1m0s\u001b[0m 75ms/step - accuracy: 0.9914 - loss: 0.0260 - val_accuracy: 0.9599 - val_loss: 0.1211\n",
            "Epoch 75/100\n",
            "\u001b[1m6/6\u001b[0m \u001b[32m━━━━━━━━━━━━━━━━━━━━\u001b[0m\u001b[37m\u001b[0m \u001b[1m1s\u001b[0m 69ms/step - accuracy: 0.9910 - loss: 0.0243 - val_accuracy: 0.9470 - val_loss: 0.1784\n",
            "Epoch 76/100\n",
            "\u001b[1m6/6\u001b[0m \u001b[32m━━━━━━━━━━━━━━━━━━━━\u001b[0m\u001b[37m\u001b[0m \u001b[1m1s\u001b[0m 70ms/step - accuracy: 0.9896 - loss: 0.0298 - val_accuracy: 0.9599 - val_loss: 0.1258\n",
            "Epoch 77/100\n",
            "\u001b[1m6/6\u001b[0m \u001b[32m━━━━━━━━━━━━━━━━━━━━\u001b[0m\u001b[37m\u001b[0m \u001b[1m1s\u001b[0m 107ms/step - accuracy: 0.9914 - loss: 0.0245 - val_accuracy: 0.9511 - val_loss: 0.1479\n",
            "Epoch 78/100\n",
            "\u001b[1m6/6\u001b[0m \u001b[32m━━━━━━━━━━━━━━━━━━━━\u001b[0m\u001b[37m\u001b[0m \u001b[1m1s\u001b[0m 112ms/step - accuracy: 0.9926 - loss: 0.0234 - val_accuracy: 0.9517 - val_loss: 0.1419\n",
            "Epoch 79/100\n",
            "\u001b[1m6/6\u001b[0m \u001b[32m━━━━━━━━━━━━━━━━━━━━\u001b[0m\u001b[37m\u001b[0m \u001b[1m1s\u001b[0m 111ms/step - accuracy: 0.9915 - loss: 0.0252 - val_accuracy: 0.9592 - val_loss: 0.1208\n",
            "Epoch 80/100\n",
            "\u001b[1m6/6\u001b[0m \u001b[32m━━━━━━━━━━━━━━━━━━━━\u001b[0m\u001b[37m\u001b[0m \u001b[1m1s\u001b[0m 64ms/step - accuracy: 0.9900 - loss: 0.0276 - val_accuracy: 0.9531 - val_loss: 0.1592\n",
            "Epoch 81/100\n",
            "\u001b[1m6/6\u001b[0m \u001b[32m━━━━━━━━━━━━━━━━━━━━\u001b[0m\u001b[37m\u001b[0m \u001b[1m0s\u001b[0m 69ms/step - accuracy: 0.9910 - loss: 0.0258 - val_accuracy: 0.9592 - val_loss: 0.1263\n",
            "Epoch 82/100\n",
            "\u001b[1m6/6\u001b[0m \u001b[32m━━━━━━━━━━━━━━━━━━━━\u001b[0m\u001b[37m\u001b[0m \u001b[1m0s\u001b[0m 68ms/step - accuracy: 0.9924 - loss: 0.0220 - val_accuracy: 0.9531 - val_loss: 0.1479\n",
            "Epoch 83/100\n",
            "\u001b[1m6/6\u001b[0m \u001b[32m━━━━━━━━━━━━━━━━━━━━\u001b[0m\u001b[37m\u001b[0m \u001b[1m0s\u001b[0m 76ms/step - accuracy: 0.9922 - loss: 0.0231 - val_accuracy: 0.9517 - val_loss: 0.1492\n",
            "Epoch 84/100\n",
            "\u001b[1m6/6\u001b[0m \u001b[32m━━━━━━━━━━━━━━━━━━━━\u001b[0m\u001b[37m\u001b[0m \u001b[1m0s\u001b[0m 66ms/step - accuracy: 0.9922 - loss: 0.0228 - val_accuracy: 0.9585 - val_loss: 0.1243\n",
            "Epoch 85/100\n",
            "\u001b[1m6/6\u001b[0m \u001b[32m━━━━━━━━━━━━━━━━━━━━\u001b[0m\u001b[37m\u001b[0m \u001b[1m1s\u001b[0m 80ms/step - accuracy: 0.9915 - loss: 0.0225 - val_accuracy: 0.9545 - val_loss: 0.1455\n",
            "Epoch 86/100\n",
            "\u001b[1m6/6\u001b[0m \u001b[32m━━━━━━━━━━━━━━━━━━━━\u001b[0m\u001b[37m\u001b[0m \u001b[1m1s\u001b[0m 68ms/step - accuracy: 0.9915 - loss: 0.0253 - val_accuracy: 0.9572 - val_loss: 0.1355\n",
            "Epoch 87/100\n",
            "\u001b[1m6/6\u001b[0m \u001b[32m━━━━━━━━━━━━━━━━━━━━\u001b[0m\u001b[37m\u001b[0m \u001b[1m1s\u001b[0m 75ms/step - accuracy: 0.9931 - loss: 0.0211 - val_accuracy: 0.9511 - val_loss: 0.1672\n",
            "Epoch 88/100\n",
            "\u001b[1m6/6\u001b[0m \u001b[32m━━━━━━━━━━━━━━━━━━━━\u001b[0m\u001b[37m\u001b[0m \u001b[1m0s\u001b[0m 75ms/step - accuracy: 0.9918 - loss: 0.0257 - val_accuracy: 0.9606 - val_loss: 0.1281\n",
            "Epoch 89/100\n",
            "\u001b[1m6/6\u001b[0m \u001b[32m━━━━━━━━━━━━━━━━━━━━\u001b[0m\u001b[37m\u001b[0m \u001b[1m1s\u001b[0m 73ms/step - accuracy: 0.9909 - loss: 0.0261 - val_accuracy: 0.9497 - val_loss: 0.1765\n",
            "Epoch 90/100\n",
            "\u001b[1m6/6\u001b[0m \u001b[32m━━━━━━━━━━━━━━━━━━━━\u001b[0m\u001b[37m\u001b[0m \u001b[1m1s\u001b[0m 79ms/step - accuracy: 0.9843 - loss: 0.0387 - val_accuracy: 0.9585 - val_loss: 0.1366\n",
            "Epoch 91/100\n",
            "\u001b[1m6/6\u001b[0m \u001b[32m━━━━━━━━━━━━━━━━━━━━\u001b[0m\u001b[37m\u001b[0m \u001b[1m1s\u001b[0m 67ms/step - accuracy: 0.9820 - loss: 0.0438 - val_accuracy: 0.9538 - val_loss: 0.1661\n",
            "Epoch 92/100\n",
            "\u001b[1m6/6\u001b[0m \u001b[32m━━━━━━━━━━━━━━━━━━━━\u001b[0m\u001b[37m\u001b[0m \u001b[1m0s\u001b[0m 74ms/step - accuracy: 0.9759 - loss: 0.0640 - val_accuracy: 0.9511 - val_loss: 0.1587\n",
            "Epoch 93/100\n",
            "\u001b[1m6/6\u001b[0m \u001b[32m━━━━━━━━━━━━━━━━━━━━\u001b[0m\u001b[37m\u001b[0m \u001b[1m0s\u001b[0m 68ms/step - accuracy: 0.9868 - loss: 0.0347 - val_accuracy: 0.9599 - val_loss: 0.1142\n",
            "Epoch 94/100\n",
            "\u001b[1m6/6\u001b[0m \u001b[32m━━━━━━━━━━━━━━━━━━━━\u001b[0m\u001b[37m\u001b[0m \u001b[1m0s\u001b[0m 78ms/step - accuracy: 0.9872 - loss: 0.0328 - val_accuracy: 0.9511 - val_loss: 0.1330\n",
            "Epoch 95/100\n",
            "\u001b[1m6/6\u001b[0m \u001b[32m━━━━━━━━━━━━━━━━━━━━\u001b[0m\u001b[37m\u001b[0m \u001b[1m1s\u001b[0m 69ms/step - accuracy: 0.9849 - loss: 0.0349 - val_accuracy: 0.9545 - val_loss: 0.1335\n",
            "Epoch 96/100\n",
            "\u001b[1m6/6\u001b[0m \u001b[32m━━━━━━━━━━━━━━━━━━━━\u001b[0m\u001b[37m\u001b[0m \u001b[1m1s\u001b[0m 71ms/step - accuracy: 0.9874 - loss: 0.0332 - val_accuracy: 0.9592 - val_loss: 0.1274\n",
            "Epoch 97/100\n",
            "\u001b[1m6/6\u001b[0m \u001b[32m━━━━━━━━━━━━━━━━━━━━\u001b[0m\u001b[37m\u001b[0m \u001b[1m0s\u001b[0m 72ms/step - accuracy: 0.9886 - loss: 0.0303 - val_accuracy: 0.9585 - val_loss: 0.1351\n",
            "Epoch 98/100\n",
            "\u001b[1m6/6\u001b[0m \u001b[32m━━━━━━━━━━━━━━━━━━━━\u001b[0m\u001b[37m\u001b[0m \u001b[1m1s\u001b[0m 74ms/step - accuracy: 0.9884 - loss: 0.0307 - val_accuracy: 0.9585 - val_loss: 0.1338\n",
            "Epoch 99/100\n",
            "\u001b[1m6/6\u001b[0m \u001b[32m━━━━━━━━━━━━━━━━━━━━\u001b[0m\u001b[37m\u001b[0m \u001b[1m1s\u001b[0m 116ms/step - accuracy: 0.9875 - loss: 0.0301 - val_accuracy: 0.9585 - val_loss: 0.1279\n",
            "Epoch 100/100\n",
            "\u001b[1m6/6\u001b[0m \u001b[32m━━━━━━━━━━━━━━━━━━━━\u001b[0m\u001b[37m\u001b[0m \u001b[1m1s\u001b[0m 116ms/step - accuracy: 0.9897 - loss: 0.0277 - val_accuracy: 0.9565 - val_loss: 0.1374\n"
          ]
        }
      ]
    },
    {
      "cell_type": "code",
      "source": [
        "model.evaluate(X_test_reshaped, y_test)"
      ],
      "metadata": {
        "colab": {
          "base_uri": "https://localhost:8080/"
        },
        "id": "xjff6pKSNeBZ",
        "outputId": "7d8382be-b480-4569-c8b3-63fe645ac38e"
      },
      "execution_count": 15,
      "outputs": [
        {
          "output_type": "stream",
          "name": "stdout",
          "text": [
            "\u001b[1m93/93\u001b[0m \u001b[32m━━━━━━━━━━━━━━━━━━━━\u001b[0m\u001b[37m\u001b[0m \u001b[1m2s\u001b[0m 15ms/step - accuracy: 0.9384 - loss: 0.2084\n"
          ]
        },
        {
          "output_type": "execute_result",
          "data": {
            "text/plain": [
              "[0.21885676681995392, 0.9389209151268005]"
            ]
          },
          "metadata": {},
          "execution_count": 15
        }
      ]
    },
    {
      "cell_type": "code",
      "source": [
        "predictions = model.predict(X_test_reshaped)\n",
        "predictions = np.argmax(predictions, axis=1)\n",
        "y_test_pred = np.argmax(y_test, axis=1)\n",
        "cm = confusion_matrix(y_test_pred, predictions)\n",
        "cm_disp = ConfusionMatrixDisplay(confusion_matrix= cm)\n",
        "cm_disp.plot()\n",
        "plt.show()"
      ],
      "metadata": {
        "colab": {
          "base_uri": "https://localhost:8080/",
          "height": 466
        },
        "id": "vC7jra0_OQaZ",
        "outputId": "647d8772-6de0-44e5-d87c-27bcd4e3cf61"
      },
      "execution_count": 17,
      "outputs": [
        {
          "output_type": "stream",
          "name": "stdout",
          "text": [
            "\u001b[1m93/93\u001b[0m \u001b[32m━━━━━━━━━━━━━━━━━━━━\u001b[0m\u001b[37m\u001b[0m \u001b[1m2s\u001b[0m 16ms/step\n"
          ]
        },
        {
          "output_type": "display_data",
          "data": {
            "text/plain": [
              "<Figure size 640x480 with 2 Axes>"
            ],
            "image/png": "[encoded data removed]"
          },
          "metadata": {}
        }
      ]
    },
    {
      "cell_type": "code",
      "source": [],
      "metadata": {
        "id": "i0FIsKrEO4Zk"
      },
      "execution_count": null,
      "outputs": []
    },
    {
      "cell_type": "code",
      "source": [],
      "metadata": {
        "id": "G_f01KigO4bt"
      },
      "execution_count": null,
      "outputs": []
    },
    {
      "cell_type": "code",
      "source": [
        "# We have to do this because some of the features have duplicate names\n",
        "# Original column names\n",
        "original_columns = X_train.columns.tolist()\n",
        "\n",
        "# Function to append axis labels (-X, -Y, -Z) for repeated features\n",
        "def append_axis_labels(features):\n",
        "    updated_features = []\n",
        "    count_dict = {}  # To track the occurrence of each feature\n",
        "    axes = ['-X', '-Y', '-Z']  # Axis labels\n",
        "\n",
        "    for feature in features:\n",
        "        # If the feature has been seen before, assign the next axis label\n",
        "        if feature in count_dict:\n",
        "            count_dict[feature] += 1\n",
        "        else:\n",
        "            count_dict[feature] = 0  # Initialize for first occurrence\n",
        "\n",
        "        # Append the appropriate axis label\n",
        "        axis_label = axes[count_dict[feature] % len(axes)]  # Cycle through -X, -Y, -Z\n",
        "        updated_features.append(feature.replace(\"bandsEnergy()\", f\"bandsEnergy(){axis_label}\"))\n",
        "\n",
        "    return updated_features\n",
        "\n",
        "# Update column names\n",
        "updated_columns = append_axis_labels(original_columns)\n",
        "\n",
        "# Assign updated column names to the DataFrame\n",
        "X_train.columns = updated_columns\n",
        "X_test.columns = updated_columns"
      ],
      "metadata": {
        "id": "dzXOPcMXO4eW"
      },
      "execution_count": 21,
      "outputs": []
    },
    {
      "cell_type": "code",
      "source": [
        "def simulate_multiple_missing_intervals(df, acc_columns, gyro_columns, acc=True, gyro=True, missing_duration=4, sampling_rate=50, num_intervals=1):\n",
        "    \"\"\"\n",
        "    Simulates multiple intervals of missing data for accelerometer or gyroscope ensuring no overlap.\n",
        "\n",
        "    Args:\n",
        "        df: DataFrame containing the dataset.\n",
        "        acc_columns: List of accelerometer-specific columns.\n",
        "        gyro_columns: List of gyroscope-specific columns.\n",
        "        missing_duration: Duration of missing data in seconds for each interval.\n",
        "        sampling_rate: Number of samples per second.\n",
        "        num_intervals: Number of intervals with missing data.\n",
        "\n",
        "    Returns:\n",
        "        Modified DataFrame with missing data for accelerometer or gyroscope (but not both).\n",
        "    \"\"\"\n",
        "    df_copy = df.copy()\n",
        "    missing_samples = missing_duration * sampling_rate\n",
        "    total_rows = len(df)\n",
        "    used_intervals = []\n",
        "    acc_start_idx = len(df)\n",
        "    acc_end_idx = 0\n",
        "\n",
        "    for _ in range(num_intervals):\n",
        "        if acc:\n",
        "            # Randomly select rows for accelerometer missing data\n",
        "            acc_start_idx = np.random.randint(0, total_rows - missing_samples + 1)\n",
        "            acc_end_idx = acc_start_idx + missing_samples\n",
        "\n",
        "            # Ensure no overlap with previously selected intervals\n",
        "            while any(start <= acc_end_idx and end >= acc_start_idx for start, end in used_intervals):\n",
        "                acc_start_idx = np.random.randint(0, total_rows - missing_samples + 1)\n",
        "                acc_end_idx = acc_start_idx + missing_samples\n",
        "\n",
        "            # Mask accelerometer data\n",
        "            df_copy.iloc[acc_start_idx:acc_end_idx, df.columns.get_indexer(acc_columns)] = np.nan # 0\n",
        "            used_intervals.append((acc_start_idx, acc_end_idx))\n",
        "\n",
        "        if gyro:\n",
        "            # Randomly select rows for gyroscope missing data ensuring no overlap\n",
        "            gyro_start_idx = np.random.randint(0, total_rows - missing_samples + 1)\n",
        "            gyro_end_idx = gyro_start_idx + missing_samples\n",
        "\n",
        "            while (any(start <= gyro_end_idx and end >= gyro_start_idx for start, end in used_intervals) or\n",
        "                  (gyro_start_idx <= acc_end_idx and gyro_end_idx >= acc_start_idx)):\n",
        "                gyro_start_idx = np.random.randint(0, total_rows - missing_samples + 1)\n",
        "                gyro_end_idx = gyro_start_idx + missing_samples\n",
        "\n",
        "            # Mask gyroscope data\n",
        "            df_copy.iloc[gyro_start_idx:gyro_end_idx, df.columns.get_indexer(gyro_columns)] = np.nan # 0\n",
        "            used_intervals.append((gyro_start_idx, gyro_end_idx))\n",
        "\n",
        "    return df_copy, used_intervals\n",
        "\n"
      ],
      "metadata": {
        "colab": {
          "base_uri": "https://localhost:8080/"
        },
        "id": "ItsjBL8POdKX",
        "outputId": "64270f29-e653-4ac9-d08c-113737da9fe0"
      },
      "execution_count": 22,
      "outputs": [
        {
          "output_type": "stream",
          "name": "stdout",
          "text": [
            "Intervals with missing data for test data (start, end):\n",
            "(99, 599)\n"
          ]
        }
      ]
    },
    {
      "cell_type": "code",
      "source": [
        "def pca_imputation(df, imputation_method='SimpleImputer', n_components=None):\n",
        "    \"\"\"\n",
        "    Imputes missing values using PCA.\n",
        "\n",
        "    Args:\n",
        "        df: DataFrame with missing values (NaN).\n",
        "        n_components: Number of principal components to retain. If None, retain all.\n",
        "\n",
        "    Returns:\n",
        "        DataFrame with imputed values.\n",
        "    \"\"\"\n",
        "    # Step 1: Impute initial missing values with the mean\n",
        "\n",
        "    if imputation_method=='SimpleImputer':\n",
        "        imputer = SimpleImputer(strategy='mean')\n",
        "        imputed_data = imputer.fit_transform(df)\n",
        "    elif imputation_method=='KNNImputer':\n",
        "        imputer = KNNImputer(n_neighbors=5, weights='distance')\n",
        "        imputed_data = imputer.fit_transform(df)\n",
        "    elif imputation_method=='IterativeImputer':\n",
        "        imputer = IterativeImputer(max_iter=5, random_state=42)\n",
        "        imputed_data = imputer.fit_transform(df)\n",
        "\n",
        "    # if enable_pca:\n",
        "    print (\"Doing Principle Component Analysis\")\n",
        "    # Step 2: Perform PCA\n",
        "    pca = PCA(n_components=n_components)\n",
        "    principal_components = pca.fit_transform(imputed_data)\n",
        "\n",
        "    # Step 3: Reconstruct data from principal components\n",
        "    imputed_pca_data = pca.inverse_transform(principal_components)\n",
        "\n",
        "    # Step 4: Fill back into DataFrame format\n",
        "    df_imputed = pd.DataFrame(imputed_data, columns=df.columns, index=df.index)\n",
        "    df_imputed_pca = pd.DataFrame(imputed_pca_data, columns=df.columns, index=df.index)\n",
        "\n",
        "\n",
        "    return df_imputed, df_imputed_pca"
      ],
      "metadata": {
        "id": "8k9ClvmKOoa-"
      },
      "execution_count": 38,
      "outputs": []
    },
    {
      "cell_type": "code",
      "source": [
        "Combinations_of_data = [\n",
        "    (True, True, 1, 5),\n",
        "    (True, True, 5, 1),\n",
        "    (True, False, 5, 2),\n",
        "    (False, True, 5, 2),\n",
        "    (True, False, 10, 1),\n",
        "    (False, True, 10, 1)\n",
        "]"
      ],
      "metadata": {
        "id": "gMc9Q2hOOoX9"
      },
      "execution_count": 39,
      "outputs": []
    },
    {
      "cell_type": "code",
      "source": [
        "results = []\n",
        "\n",
        "# Example Usage\n",
        "for data in Combinations_of_data:\n",
        "    # Define accelerometer and gyroscope columns\n",
        "    accelerometer_cols = [col for col in X_train.columns if 'Acc' in col]\n",
        "    gyroscope_cols = [col for col in X_train.columns if 'Gyro' in col]\n",
        "\n",
        "    # Simulate multiple intervals of missing data\n",
        "    # X_train_modified, X_train_intervals = simulate_multiple_missing_intervals(\n",
        "    #     X_train, accelerometer_cols, gyroscope_cols, num_intervals=5)\n",
        "    X_test_modified, X_test_intervals = simulate_multiple_missing_intervals(\n",
        "        X_test, accelerometer_cols, gyroscope_cols, acc=data[0], gyro=data[1], missing_duration=data[2], num_intervals=data[3])\n",
        "\n",
        "    # Display the intervals with missing data\n",
        "    # print(\"Intervals with missing data for train data (start, end):\")\n",
        "    # for interval in X_train_intervals:\n",
        "    #     print(interval)\n",
        "    print(\"Intervals with missing data for test data (start, end):\")\n",
        "    for interval in X_test_intervals:\n",
        "        print(interval)\n",
        "\n",
        "    # Step 1: Replace 0 with NaN for accelerometer and gyroscope columns\n",
        "    X_test_modified_nan = X_test_modified.copy()\n",
        "    for col in accelerometer_cols + gyroscope_cols:\n",
        "        X_test_modified_nan[col] = X_test_modified_nan[col].replace(0, np.nan)\n",
        "\n",
        "    # Step 2: Verify missing values\n",
        "    missing_count = X_test_modified_nan.isna().sum().sum()\n",
        "    print(f\"Missing values after replacing 0 with NaN: {missing_count}\")\n",
        "\n",
        "    # Step 3: Apply PCA imputation\n",
        "    X_test_SimpleImputer, X_test_SimpleImputer_with_PCA = pca_imputation(X_test_modified_nan, imputation_method='SimpleImputer', n_components=175)\n",
        "    X_test_KNNImputer, X_test_KNNImputer_with_PCA = pca_imputation(X_test_modified_nan, imputation_method='KNNImputer', n_components=175)\n",
        "    # X_test_IterativeImputer, X_test_IterativeImputer_with_PCA = pca_imputation(X_test_modified_nan, imputation_method='IterativeImputer', n_components=175)\n",
        "\n",
        "    # Step 4: Check results\n",
        "    print(\"Missing values before PCA imputation :\", X_test_modified_nan.isna().sum().sum())\n",
        "\n",
        "    print(\"Missing values after SimpleImputer:\", X_test_SimpleImputer.isna().sum().sum())\n",
        "    print(\"Missing values after KNNImputer:\", X_test_KNNImputer.isna().sum().sum())\n",
        "    # print(\"Missing values after IterativeImputer:\", X_test_IterativeImputer.isna().sum().sum())\n",
        "\n",
        "    print(\"Missing values after PCA SimpleImputer:\", X_test_SimpleImputer_with_PCA.isna().sum().sum())\n",
        "    print(\"Missing values after PCA KNNImputer:\", X_test_KNNImputer_with_PCA.isna().sum().sum())\n",
        "    # print(\"Missing values after PCA IterativeImputer:\", X_test_IterativeImputer_with_PCA.isna().sum().sum())\n",
        "\n",
        "    # Reshape the data to be in 3D (num_samples, time_steps, num_features)\n",
        "    # X_train_modified_reshaped = np.array(X_train_modified).reshape((train_num_samples, time_steps, X_train_modified.shape[1]))\n",
        "    X_test_modified_reshaped = np.array(X_test_modified).reshape((test_num_samples, time_steps, X_test_modified.shape[1]))\n",
        "\n",
        "\n",
        "    # Reshape the data to be in 3D (num_samples, time_steps, num_features)\n",
        "    # X_train_imputed_reshaped = np.array(X_train_imputed).reshape((train_num_samples, time_steps, X_train_imputed.shape[1]))\n",
        "    X_test_SimpleImputer_reshaped = np.array(X_test_SimpleImputer).reshape((test_num_samples, time_steps, X_test_SimpleImputer.shape[1]))\n",
        "    X_test_KNNImputer_reshaped = np.array(X_test_KNNImputer).reshape((test_num_samples, time_steps, X_test_KNNImputer.shape[1]))\n",
        "    # X_test_IterativeImputer_reshaped = np.array(X_test_IterativeImputer).reshape((test_num_samples, time_steps, X_test_IterativeImputer.shape[1]))\n",
        "\n",
        "    X_test_SimpleImputer_with_PCA_reshaped = np.array(X_test_SimpleImputer_with_PCA).reshape((test_num_samples, time_steps, X_test_SimpleImputer_with_PCA.shape[1]))\n",
        "    X_test_KNNImputer_with_PCA_reshaped = np.array(X_test_KNNImputer_with_PCA).reshape((test_num_samples, time_steps, X_test_KNNImputer_with_PCA.shape[1]))\n",
        "    # X_test_IterativeImputer_with_PCA_reshaped = np.array(X_test_IterativeImputer_with_PCA).reshape((test_num_samples, time_steps, X_test_IterativeImputer_with_PCA.shape[1]))\n",
        "\n",
        "\n",
        "    results.append((\n",
        "        X_test_modified_nan.isna().sum().sum(),\n",
        "        model.evaluate(X_test_modified_reshaped, y_test)[1],\n",
        "        model.evaluate(X_test_SimpleImputer_reshaped, y_test)[1],\n",
        "        model.evaluate(X_test_KNNImputer_reshaped, y_test)[1],\n",
        "        model.evaluate(X_test_SimpleImputer_with_PCA_reshaped, y_test)[1],\n",
        "        model.evaluate(X_test_KNNImputer_with_PCA_reshaped, y_test)[1]\n",
        "    ))\n"
      ],
      "metadata": {
        "colab": {
          "base_uri": "https://localhost:8080/"
        },
        "id": "njmcwXXuOoVR",
        "outputId": "d77cb161-7d87-471d-beda-c112c10e8988"
      },
      "execution_count": 41,
      "outputs": [
        {
          "output_type": "stream",
          "name": "stdout",
          "text": [
            "Intervals with missing data for test data (start, end):\n",
            "(903, 953)\n",
            "(1738, 1788)\n",
            "(671, 721)\n",
            "(2500, 2550)\n",
            "(847, 897)\n",
            "(467, 517)\n",
            "(2243, 2293)\n",
            "(1935, 1985)\n",
            "(1320, 1370)\n",
            "(2162, 2212)\n",
            "Missing values after replacing 0 with NaN: 139737\n",
            "Doing Principle Component Analysis\n",
            "Doing fit_transform\n",
            "reconstructing data\n",
            "Doing Principle Component Analysis\n",
            "Doing fit_transform\n",
            "reconstructing data\n",
            "Missing values before PCA imputation : 139737\n",
            "Missing values after SimpleImputer: 0\n",
            "Missing values after KNNImputer: 0\n",
            "Missing values after PCA SimpleImputer: 0\n",
            "Missing values after PCA KNNImputer: 0\n",
            "\u001b[1m93/93\u001b[0m \u001b[32m━━━━━━━━━━━━━━━━━━━━\u001b[0m\u001b[37m\u001b[0m \u001b[1m0s\u001b[0m 5ms/step - accuracy: 0.8066 - loss: nan\n",
            "\u001b[1m93/93\u001b[0m \u001b[32m━━━━━━━━━━━━━━━━━━━━\u001b[0m\u001b[37m\u001b[0m \u001b[1m1s\u001b[0m 5ms/step - accuracy: 0.9013 - loss: 0.4228\n",
            "\u001b[1m93/93\u001b[0m \u001b[32m━━━━━━━━━━━━━━━━━━━━\u001b[0m\u001b[37m\u001b[0m \u001b[1m0s\u001b[0m 5ms/step - accuracy: 0.8862 - loss: 0.6020\n",
            "\u001b[1m93/93\u001b[0m \u001b[32m━━━━━━━━━━━━━━━━━━━━\u001b[0m\u001b[37m\u001b[0m \u001b[1m0s\u001b[0m 5ms/step - accuracy: 0.8996 - loss: 0.4241\n",
            "\u001b[1m93/93\u001b[0m \u001b[32m━━━━━━━━━━━━━━━━━━━━\u001b[0m\u001b[37m\u001b[0m \u001b[1m0s\u001b[0m 5ms/step - accuracy: 0.8854 - loss: 0.5991\n",
            "Intervals with missing data for test data (start, end):\n",
            "(2664, 2914)\n",
            "(305, 555)\n",
            "Missing values after replacing 0 with NaN: 139732\n",
            "Doing Principle Component Analysis\n",
            "Doing fit_transform\n",
            "reconstructing data\n",
            "Doing Principle Component Analysis\n",
            "Doing fit_transform\n",
            "reconstructing data\n",
            "Missing values before PCA imputation : 139732\n",
            "Missing values after SimpleImputer: 0\n",
            "Missing values after KNNImputer: 0\n",
            "Missing values after PCA SimpleImputer: 0\n",
            "Missing values after PCA KNNImputer: 0\n",
            "\u001b[1m93/93\u001b[0m \u001b[32m━━━━━━━━━━━━━━━━━━━━\u001b[0m\u001b[37m\u001b[0m \u001b[1m0s\u001b[0m 5ms/step - accuracy: 0.7756 - loss: nan\n",
            "\u001b[1m93/93\u001b[0m \u001b[32m━━━━━━━━━━━━━━━━━━━━\u001b[0m\u001b[37m\u001b[0m \u001b[1m1s\u001b[0m 5ms/step - accuracy: 0.9311 - loss: 0.2385\n",
            "\u001b[1m93/93\u001b[0m \u001b[32m━━━━━━━━━━━━━━━━━━━━\u001b[0m\u001b[37m\u001b[0m \u001b[1m0s\u001b[0m 5ms/step - accuracy: 0.9217 - loss: 0.2671\n",
            "\u001b[1m93/93\u001b[0m \u001b[32m━━━━━━━━━━━━━━━━━━━━\u001b[0m\u001b[37m\u001b[0m \u001b[1m0s\u001b[0m 5ms/step - accuracy: 0.9314 - loss: 0.2375\n",
            "\u001b[1m93/93\u001b[0m \u001b[32m━━━━━━━━━━━━━━━━━━━━\u001b[0m\u001b[37m\u001b[0m \u001b[1m0s\u001b[0m 4ms/step - accuracy: 0.9197 - loss: 0.2656\n",
            "Intervals with missing data for test data (start, end):\n",
            "(819, 1069)\n",
            "(1126, 1376)\n",
            "Missing values after replacing 0 with NaN: 172710\n",
            "Doing Principle Component Analysis\n",
            "Doing fit_transform\n",
            "reconstructing data\n",
            "Doing Principle Component Analysis\n",
            "Doing fit_transform\n",
            "reconstructing data\n",
            "Missing values before PCA imputation : 172710\n",
            "Missing values after SimpleImputer: 0\n",
            "Missing values after KNNImputer: 0\n",
            "Missing values after PCA SimpleImputer: 0\n",
            "Missing values after PCA KNNImputer: 0\n",
            "\u001b[1m93/93\u001b[0m \u001b[32m━━━━━━━━━━━━━━━━━━━━\u001b[0m\u001b[37m\u001b[0m \u001b[1m0s\u001b[0m 5ms/step - accuracy: 0.7791 - loss: nan\n",
            "\u001b[1m93/93\u001b[0m \u001b[32m━━━━━━━━━━━━━━━━━━━━\u001b[0m\u001b[37m\u001b[0m \u001b[1m0s\u001b[0m 5ms/step - accuracy: 0.8625 - loss: 0.6670\n",
            "\u001b[1m93/93\u001b[0m \u001b[32m━━━━━━━━━━━━━━━━━━━━\u001b[0m\u001b[37m\u001b[0m \u001b[1m0s\u001b[0m 5ms/step - accuracy: 0.9104 - loss: 0.3889\n",
            "\u001b[1m93/93\u001b[0m \u001b[32m━━━━━━━━━━━━━━━━━━━━\u001b[0m\u001b[37m\u001b[0m \u001b[1m0s\u001b[0m 5ms/step - accuracy: 0.8609 - loss: 0.6689\n",
            "\u001b[1m93/93\u001b[0m \u001b[32m━━━━━━━━━━━━━━━━━━━━\u001b[0m\u001b[37m\u001b[0m \u001b[1m0s\u001b[0m 4ms/step - accuracy: 0.9093 - loss: 0.3926\n",
            "Intervals with missing data for test data (start, end):\n",
            "(502, 752)\n",
            "(1221, 1471)\n",
            "Missing values after replacing 0 with NaN: 106748\n",
            "Doing Principle Component Analysis\n",
            "Doing fit_transform\n",
            "reconstructing data\n",
            "Doing Principle Component Analysis\n",
            "Doing fit_transform\n",
            "reconstructing data\n",
            "Missing values before PCA imputation : 106748\n",
            "Missing values after SimpleImputer: 0\n",
            "Missing values after KNNImputer: 0\n",
            "Missing values after PCA SimpleImputer: 0\n",
            "Missing values after PCA KNNImputer: 0\n",
            "\u001b[1m93/93\u001b[0m \u001b[32m━━━━━━━━━━━━━━━━━━━━\u001b[0m\u001b[37m\u001b[0m \u001b[1m0s\u001b[0m 5ms/step - accuracy: 0.7533 - loss: nan\n",
            "\u001b[1m93/93\u001b[0m \u001b[32m━━━━━━━━━━━━━━━━━━━━\u001b[0m\u001b[37m\u001b[0m \u001b[1m0s\u001b[0m 5ms/step - accuracy: 0.9367 - loss: 0.2154\n",
            "\u001b[1m93/93\u001b[0m \u001b[32m━━━━━━━━━━━━━━━━━━━━\u001b[0m\u001b[37m\u001b[0m \u001b[1m0s\u001b[0m 5ms/step - accuracy: 0.9342 - loss: 0.2174\n",
            "\u001b[1m93/93\u001b[0m \u001b[32m━━━━━━━━━━━━━━━━━━━━\u001b[0m\u001b[37m\u001b[0m \u001b[1m0s\u001b[0m 5ms/step - accuracy: 0.9373 - loss: 0.2175\n",
            "\u001b[1m93/93\u001b[0m \u001b[32m━━━━━━━━━━━━━━━━━━━━\u001b[0m\u001b[37m\u001b[0m \u001b[1m1s\u001b[0m 5ms/step - accuracy: 0.9323 - loss: 0.2213\n",
            "Intervals with missing data for test data (start, end):\n",
            "(902, 1402)\n",
            "Missing values after replacing 0 with NaN: 172702\n",
            "Doing Principle Component Analysis\n",
            "Doing fit_transform\n",
            "reconstructing data\n",
            "Doing Principle Component Analysis\n",
            "Doing fit_transform\n",
            "reconstructing data\n",
            "Missing values before PCA imputation : 172702\n",
            "Missing values after SimpleImputer: 0\n",
            "Missing values after KNNImputer: 0\n",
            "Missing values after PCA SimpleImputer: 0\n",
            "Missing values after PCA KNNImputer: 0\n",
            "\u001b[1m93/93\u001b[0m \u001b[32m━━━━━━━━━━━━━━━━━━━━\u001b[0m\u001b[37m\u001b[0m \u001b[1m0s\u001b[0m 5ms/step - accuracy: 0.8007 - loss: nan\n",
            "\u001b[1m93/93\u001b[0m \u001b[32m━━━━━━━━━━━━━━━━━━━━\u001b[0m\u001b[37m\u001b[0m \u001b[1m0s\u001b[0m 5ms/step - accuracy: 0.8872 - loss: 0.4884\n",
            "\u001b[1m93/93\u001b[0m \u001b[32m━━━━━━━━━━━━━━━━━━━━\u001b[0m\u001b[37m\u001b[0m \u001b[1m1s\u001b[0m 5ms/step - accuracy: 0.9276 - loss: 0.2914\n",
            "\u001b[1m93/93\u001b[0m \u001b[32m━━━━━━━━━━━━━━━━━━━━\u001b[0m\u001b[37m\u001b[0m \u001b[1m0s\u001b[0m 5ms/step - accuracy: 0.8864 - loss: 0.4922\n",
            "\u001b[1m93/93\u001b[0m \u001b[32m━━━━━━━━━━━━━━━━━━━━\u001b[0m\u001b[37m\u001b[0m \u001b[1m0s\u001b[0m 5ms/step - accuracy: 0.9269 - loss: 0.2953\n",
            "Intervals with missing data for test data (start, end):\n",
            "(239, 739)\n",
            "Missing values after replacing 0 with NaN: 106749\n",
            "Doing Principle Component Analysis\n",
            "Doing fit_transform\n",
            "reconstructing data\n",
            "Doing Principle Component Analysis\n",
            "Doing fit_transform\n",
            "reconstructing data\n",
            "Missing values before PCA imputation : 106749\n",
            "Missing values after SimpleImputer: 0\n",
            "Missing values after KNNImputer: 0\n",
            "Missing values after PCA SimpleImputer: 0\n",
            "Missing values after PCA KNNImputer: 0\n",
            "\u001b[1m93/93\u001b[0m \u001b[32m━━━━━━━━━━━━━━━━━━━━\u001b[0m\u001b[37m\u001b[0m \u001b[1m0s\u001b[0m 5ms/step - accuracy: 0.6437 - loss: nan\n",
            "\u001b[1m93/93\u001b[0m \u001b[32m━━━━━━━━━━━━━━━━━━━━\u001b[0m\u001b[37m\u001b[0m \u001b[1m1s\u001b[0m 5ms/step - accuracy: 0.9379 - loss: 0.2157\n",
            "\u001b[1m93/93\u001b[0m \u001b[32m━━━━━━━━━━━━━━━━━━━━\u001b[0m\u001b[37m\u001b[0m \u001b[1m0s\u001b[0m 5ms/step - accuracy: 0.9214 - loss: 0.2546\n",
            "\u001b[1m93/93\u001b[0m \u001b[32m━━━━━━━━━━━━━━━━━━━━\u001b[0m\u001b[37m\u001b[0m \u001b[1m0s\u001b[0m 5ms/step - accuracy: 0.9389 - loss: 0.2159\n",
            "\u001b[1m93/93\u001b[0m \u001b[32m━━━━━━━━━━━━━━━━━━━━\u001b[0m\u001b[37m\u001b[0m \u001b[1m0s\u001b[0m 5ms/step - accuracy: 0.9200 - loss: 0.2541\n"
          ]
        }
      ]
    },
    {
      "cell_type": "code",
      "source": [
        "results"
      ],
      "metadata": {
        "colab": {
          "base_uri": "https://localhost:8080/"
        },
        "id": "uqsDKy3NQhxA",
        "outputId": "6bdec2b8-9aaa-4191-a6cd-f36a20c44c5b"
      },
      "execution_count": 42,
      "outputs": [
        {
          "output_type": "execute_result",
          "data": {
            "text/plain": [
              "[(139737,\n",
              "  0.7814726829528809,\n",
              "  0.9026128053665161,\n",
              "  0.8924329876899719,\n",
              "  0.8988802433013916,\n",
              "  0.8897183537483215),\n",
              " (139732,\n",
              "  0.7729894518852234,\n",
              "  0.8931116461753845,\n",
              "  0.8900576829910278,\n",
              "  0.8907363414764404,\n",
              "  0.8870037198066711),\n",
              " (172710,\n",
              "  0.7811333537101746,\n",
              "  0.8629114627838135,\n",
              "  0.9117746949195862,\n",
              "  0.861214816570282,\n",
              "  0.910417377948761),\n",
              " (106748,\n",
              "  0.7797760367393494,\n",
              "  0.9365456104278564,\n",
              "  0.9365456104278564,\n",
              "  0.9348490238189697,\n",
              "  0.9338310360908508),\n",
              " (172702,\n",
              "  0.7940278053283691,\n",
              "  0.8836104273796082,\n",
              "  0.9277231097221375,\n",
              "  0.8812351822853088,\n",
              "  0.9263657927513123),\n",
              " (106749,\n",
              "  0.7787580490112305,\n",
              "  0.9389209151268005,\n",
              "  0.9300984144210815,\n",
              "  0.9375635981559753,\n",
              "  0.9267051219940186)]"
            ]
          },
          "metadata": {},
          "execution_count": 42
        }
      ]
    },
    {
      "cell_type": "code",
      "source": [
        "print (\"1 second ACC & 1 Second Gyro (5 seperate intervals for each) : {}, {}, {}, {}, {}, {}\".format(results[0][0], results[0][1], results[0][2], results[0][3], results[0][4], results[0][5]) )\n",
        "print (\"5 second ACC & 5 Second Gyro (1 continuous intervals for each) : {}, {}, {}, {}, {}, {}\".format(results[1][0], results[1][1], results[1][2], results[1][3], results[1][4], results[1][5]) )\n",
        "print (\"5 second ACC (2 seperate intervals) : {}, {}, {}, {}, {}, {}\".format(results[2][0], results[2][1], results[2][2], results[2][3], results[2][4], results[2][5]) )\n",
        "print (\"5 Second Gyro (2 seperate intervals) : {}, {}, {}, {}, {}, {}\".format(results[3][0], results[3][1], results[3][2], results[3][3], results[3][4], results[3][5]) )\n",
        "print (\"10 seconds ACC (1 continuous intervals) : {}, {}, {}, {}, {}, {}\".format(results[4][0], results[4][1], results[4][2], results[4][3], results[4][4], results[4][5]) )\n",
        "print (\"10 seconds Gyro (1 continuous intervals) : {}, {}, {}, {}, {}, {}\".format(results[5][0], results[5][1], results[5][2], results[5][3], results[5][4], results[5][5]) )"
      ],
      "metadata": {
        "colab": {
          "base_uri": "https://localhost:8080/"
        },
        "id": "B0-XNDaSQjJ5",
        "outputId": "157c3b83-f22c-4f1c-f62f-bdbf75e3752d"
      },
      "execution_count": 47,
      "outputs": [
        {
          "output_type": "stream",
          "name": "stdout",
          "text": [
            "1 second ACC & 1 Second Gyro (5 seperate intervals for each) : 139737, 0.7814726829528809, 0.9026128053665161, 0.8924329876899719, 0.8988802433013916, 0.8897183537483215\n",
            "5 second ACC & 5 Second Gyro (1 continuous intervals for each) : 139732, 0.7729894518852234, 0.8931116461753845, 0.8900576829910278, 0.8907363414764404, 0.8870037198066711\n",
            "5 second ACC (2 seperate intervals) : 172710, 0.7811333537101746, 0.8629114627838135, 0.9117746949195862, 0.861214816570282, 0.910417377948761\n",
            "5 Second Gyro (2 seperate intervals) : 106748, 0.7797760367393494, 0.9365456104278564, 0.9365456104278564, 0.9348490238189697, 0.9338310360908508\n",
            "10 seconds ACC (1 continuous intervals) : 172702, 0.7940278053283691, 0.8836104273796082, 0.9277231097221375, 0.8812351822853088, 0.9263657927513123\n",
            "10 seconds Gyro (1 continuous intervals) : 106749, 0.7787580490112305, 0.9389209151268005, 0.9300984144210815, 0.9375635981559753, 0.9267051219940186\n"
          ]
        }
      ]
    },
    {
      "cell_type": "code",
      "source": [],
      "metadata": {
        "id": "ej6IaqrvSsEJ"
      },
      "execution_count": null,
      "outputs": []
    }
  ]
}